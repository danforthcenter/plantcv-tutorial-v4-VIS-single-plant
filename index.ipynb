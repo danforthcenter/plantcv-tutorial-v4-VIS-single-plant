{
 "cells": [
  {
   "attachments": {},
   "cell_type": "markdown",
   "id": "assigned-gossip",
   "metadata": {},
   "source": [
    "# Analyze number, size, and shape of stomata using interactive PlantCV tools\n",
    "In this notebook we analyze brightfield microscopy images of plant stomata. First, the stoma are detected automatically using a color threshold; however, for most images this is insufficient to remove noise and get an accurate stomata count, depending on the quality of the images. Next, interactive tools can be used to select only the stomata. Lastly, the morphology package provides analysis of shape, including aperture (area), length (height), and width. Data is then exported as a .csv for downstream analysis. Stomatal conductance is a function of both the number of stoma and their aperture. \n"
   ]
  },
  {
   "cell_type": "markdown",
   "id": "criminal-quest",
   "metadata": {},
   "source": [
    "## Import libraries and define local functions"
   ]
  },
  {
   "cell_type": "code",
   "execution_count": 2,
   "id": "complicated-token",
   "metadata": {},
   "outputs": [
    {
     "ename": "ModuleNotFoundError",
     "evalue": "No module named 'matplotlib'",
     "output_type": "error",
     "traceback": [
      "\u001b[0;31m---------------------------------------------------------------------------\u001b[0m",
      "\u001b[0;31mModuleNotFoundError\u001b[0m                       Traceback (most recent call last)",
      "Cell \u001b[0;32mIn[2], line 1\u001b[0m\n\u001b[0;32m----> 1\u001b[0m get_ipython()\u001b[39m.\u001b[39;49mrun_line_magic(\u001b[39m'\u001b[39;49m\u001b[39mmatplotlib\u001b[39;49m\u001b[39m'\u001b[39;49m, \u001b[39m'\u001b[39;49m\u001b[39mwidget\u001b[39;49m\u001b[39m'\u001b[39;49m)\n\u001b[1;32m      3\u001b[0m \u001b[39mfrom\u001b[39;00m \u001b[39mmatplotlib\u001b[39;00m \u001b[39mimport\u001b[39;00m pyplot \u001b[39mas\u001b[39;00m plt\n\u001b[1;32m      4\u001b[0m \u001b[39mfrom\u001b[39;00m \u001b[39mplantcv\u001b[39;00m \u001b[39mimport\u001b[39;00m plantcv \u001b[39mas\u001b[39;00m pcv\n",
      "File \u001b[0;32m~/miniconda3/lib/python3.10/site-packages/IPython/core/interactiveshell.py:2414\u001b[0m, in \u001b[0;36mInteractiveShell.run_line_magic\u001b[0;34m(self, magic_name, line, _stack_depth)\u001b[0m\n\u001b[1;32m   2412\u001b[0m     kwargs[\u001b[39m'\u001b[39m\u001b[39mlocal_ns\u001b[39m\u001b[39m'\u001b[39m] \u001b[39m=\u001b[39m \u001b[39mself\u001b[39m\u001b[39m.\u001b[39mget_local_scope(stack_depth)\n\u001b[1;32m   2413\u001b[0m \u001b[39mwith\u001b[39;00m \u001b[39mself\u001b[39m\u001b[39m.\u001b[39mbuiltin_trap:\n\u001b[0;32m-> 2414\u001b[0m     result \u001b[39m=\u001b[39m fn(\u001b[39m*\u001b[39;49margs, \u001b[39m*\u001b[39;49m\u001b[39m*\u001b[39;49mkwargs)\n\u001b[1;32m   2416\u001b[0m \u001b[39m# The code below prevents the output from being displayed\u001b[39;00m\n\u001b[1;32m   2417\u001b[0m \u001b[39m# when using magics with decodator @output_can_be_silenced\u001b[39;00m\n\u001b[1;32m   2418\u001b[0m \u001b[39m# when the last Python token in the expression is a ';'.\u001b[39;00m\n\u001b[1;32m   2419\u001b[0m \u001b[39mif\u001b[39;00m \u001b[39mgetattr\u001b[39m(fn, magic\u001b[39m.\u001b[39mMAGIC_OUTPUT_CAN_BE_SILENCED, \u001b[39mFalse\u001b[39;00m):\n",
      "File \u001b[0;32m~/miniconda3/lib/python3.10/site-packages/IPython/core/magics/pylab.py:99\u001b[0m, in \u001b[0;36mPylabMagics.matplotlib\u001b[0;34m(self, line)\u001b[0m\n\u001b[1;32m     97\u001b[0m     \u001b[39mprint\u001b[39m(\u001b[39m\"\u001b[39m\u001b[39mAvailable matplotlib backends: \u001b[39m\u001b[39m%s\u001b[39;00m\u001b[39m\"\u001b[39m \u001b[39m%\u001b[39m backends_list)\n\u001b[1;32m     98\u001b[0m \u001b[39melse\u001b[39;00m:\n\u001b[0;32m---> 99\u001b[0m     gui, backend \u001b[39m=\u001b[39m \u001b[39mself\u001b[39;49m\u001b[39m.\u001b[39;49mshell\u001b[39m.\u001b[39;49menable_matplotlib(args\u001b[39m.\u001b[39;49mgui\u001b[39m.\u001b[39;49mlower() \u001b[39mif\u001b[39;49;00m \u001b[39misinstance\u001b[39;49m(args\u001b[39m.\u001b[39;49mgui, \u001b[39mstr\u001b[39;49m) \u001b[39melse\u001b[39;49;00m args\u001b[39m.\u001b[39;49mgui)\n\u001b[1;32m    100\u001b[0m     \u001b[39mself\u001b[39m\u001b[39m.\u001b[39m_show_matplotlib_backend(args\u001b[39m.\u001b[39mgui, backend)\n",
      "File \u001b[0;32m~/miniconda3/lib/python3.10/site-packages/IPython/core/interactiveshell.py:3585\u001b[0m, in \u001b[0;36mInteractiveShell.enable_matplotlib\u001b[0;34m(self, gui)\u001b[0m\n\u001b[1;32m   3564\u001b[0m \u001b[39mdef\u001b[39;00m \u001b[39menable_matplotlib\u001b[39m(\u001b[39mself\u001b[39m, gui\u001b[39m=\u001b[39m\u001b[39mNone\u001b[39;00m):\n\u001b[1;32m   3565\u001b[0m \u001b[39m    \u001b[39m\u001b[39m\"\"\"Enable interactive matplotlib and inline figure support.\u001b[39;00m\n\u001b[1;32m   3566\u001b[0m \n\u001b[1;32m   3567\u001b[0m \u001b[39m    This takes the following steps:\u001b[39;00m\n\u001b[0;32m   (...)\u001b[0m\n\u001b[1;32m   3583\u001b[0m \u001b[39m        display figures inline.\u001b[39;00m\n\u001b[1;32m   3584\u001b[0m \u001b[39m    \"\"\"\u001b[39;00m\n\u001b[0;32m-> 3585\u001b[0m     \u001b[39mfrom\u001b[39;00m \u001b[39mmatplotlib_inline\u001b[39;00m\u001b[39m.\u001b[39;00m\u001b[39mbackend_inline\u001b[39;00m \u001b[39mimport\u001b[39;00m configure_inline_support\n\u001b[1;32m   3587\u001b[0m     \u001b[39mfrom\u001b[39;00m \u001b[39mIPython\u001b[39;00m\u001b[39m.\u001b[39;00m\u001b[39mcore\u001b[39;00m \u001b[39mimport\u001b[39;00m pylabtools \u001b[39mas\u001b[39;00m pt\n\u001b[1;32m   3588\u001b[0m     gui, backend \u001b[39m=\u001b[39m pt\u001b[39m.\u001b[39mfind_gui_and_backend(gui, \u001b[39mself\u001b[39m\u001b[39m.\u001b[39mpylab_gui_select)\n",
      "File \u001b[0;32m~/miniconda3/lib/python3.10/site-packages/matplotlib_inline/__init__.py:1\u001b[0m\n\u001b[0;32m----> 1\u001b[0m \u001b[39mfrom\u001b[39;00m \u001b[39m.\u001b[39;00m \u001b[39mimport\u001b[39;00m backend_inline, config  \u001b[39m# noqa\u001b[39;00m\n\u001b[1;32m      2\u001b[0m __version__ \u001b[39m=\u001b[39m \u001b[39m\"\u001b[39m\u001b[39m0.1.6\u001b[39m\u001b[39m\"\u001b[39m  \u001b[39m# noqa\u001b[39;00m\n",
      "File \u001b[0;32m~/miniconda3/lib/python3.10/site-packages/matplotlib_inline/backend_inline.py:6\u001b[0m\n\u001b[1;32m      1\u001b[0m \u001b[39m\"\"\"A matplotlib backend for publishing figures via display_data\"\"\"\u001b[39;00m\n\u001b[1;32m      3\u001b[0m \u001b[39m# Copyright (c) IPython Development Team.\u001b[39;00m\n\u001b[1;32m      4\u001b[0m \u001b[39m# Distributed under the terms of the BSD 3-Clause License.\u001b[39;00m\n\u001b[0;32m----> 6\u001b[0m \u001b[39mimport\u001b[39;00m \u001b[39mmatplotlib\u001b[39;00m\n\u001b[1;32m      7\u001b[0m \u001b[39mfrom\u001b[39;00m \u001b[39mmatplotlib\u001b[39;00m \u001b[39mimport\u001b[39;00m colors\n\u001b[1;32m      8\u001b[0m \u001b[39mfrom\u001b[39;00m \u001b[39mmatplotlib\u001b[39;00m\u001b[39m.\u001b[39;00m\u001b[39mbackends\u001b[39;00m \u001b[39mimport\u001b[39;00m backend_agg\n",
      "\u001b[0;31mModuleNotFoundError\u001b[0m: No module named 'matplotlib'"
     ]
    }
   ],
   "source": [
    "%matplotlib widget\n",
    "\n",
    "from matplotlib import pyplot as plt\n",
    "from plantcv import plantcv as pcv\n",
    "import cv2\n",
    "import numpy as np\n",
    "import argparse \n",
    "from  matplotlib import pyplot as plt\n",
    "import os\n",
    "from skimage import exposure, img_as_float\n",
    "import glob\n",
    "import pandas as pd"
   ]
  },
  {
   "cell_type": "code",
   "execution_count": 3,
   "id": "cooked-steering",
   "metadata": {},
   "outputs": [],
   "source": [
    "# Input/output options\n",
    "class options:\n",
    "    def __init__(self):\n",
    "        self.image = \"./imgs/SCALE_20x_1201_C_WT_4_001.tif\"  # required\n",
    "        self.debug = \"plot\"  # None, \"print\" (save to file), or \"plot\" (display in notebook)\n",
    "        self.writeimg= False\n",
    "        self.result = \"example_results_oneimage_file.csv\"  # required\n",
    "        self.outdir = \".\" # Store the output to the current directory \n",
    "\n",
    "#Images in the format of .tif or .jpg are usable in this workflow. \n",
    "#We recommend keeping a spreadsheet with your image names so you can copy and paste them into the notebook one image at a time. \n",
    "\n",
    "# Get options\n",
    "args = options()"
   ]
  },
  {
   "cell_type": "code",
   "execution_count": 4,
   "id": "played-petite",
   "metadata": {},
   "outputs": [
    {
     "ename": "NameError",
     "evalue": "name 'pcv' is not defined",
     "output_type": "error",
     "traceback": [
      "\u001b[0;31m---------------------------------------------------------------------------\u001b[0m",
      "\u001b[0;31mNameError\u001b[0m                                 Traceback (most recent call last)",
      "Cell \u001b[0;32mIn[4], line 2\u001b[0m\n\u001b[1;32m      1\u001b[0m \u001b[39m# Set debug to the global parameter \u001b[39;00m\n\u001b[0;32m----> 2\u001b[0m pcv\u001b[39m.\u001b[39mparams\u001b[39m.\u001b[39mdebug \u001b[39m=\u001b[39m args\u001b[39m.\u001b[39mdebug\n\u001b[1;32m      3\u001b[0m \u001b[39m# Change display settings\u001b[39;00m\n\u001b[1;32m      4\u001b[0m pcv\u001b[39m.\u001b[39mparams\u001b[39m.\u001b[39mdpi \u001b[39m=\u001b[39m \u001b[39m120\u001b[39m\n",
      "\u001b[0;31mNameError\u001b[0m: name 'pcv' is not defined"
     ]
    }
   ],
   "source": [
    "# Set debug to the global parameter \n",
    "pcv.params.debug = args.debug\n",
    "# Change display settings\n",
    "pcv.params.dpi = 120\n",
    "pcv.params.text_size = 10"
   ]
  },
  {
   "attachments": {},
   "cell_type": "markdown",
   "id": "numerical-diagram",
   "metadata": {},
   "source": [
    "## Load image and threshold \n",
    "The channel used and the threshold value can be adjusted for a better result. The resulting binary image from this step must contain all the stomata. The additional noise from other cells and shadows in the image will be removed in a subsequent step. "
   ]
  },
  {
   "cell_type": "code",
   "execution_count": null,
   "id": "pressing-talent",
   "metadata": {
    "scrolled": false
   },
   "outputs": [],
   "source": [
    "img, _, filename = pcv.readimage(filename=args.image, mode=\"native\")\n",
    "h,w,_ = img.shape\n",
    "\n",
    "pcv.plot_image(img)\n",
    "plt.title('RGB')\n",
    "\n",
    "img_l = pcv.rgb2gray_lab(rgb_img=img, channel='l')\n",
    "\n",
    "# Threshold the l channel image to get only the stomata\n",
    "#If you don't like this threshold, you can try the other channels (a, l, v, s)\n",
    "l_thresh = pcv.threshold.binary(gray_img=img_l, threshold=135, max_value=255, \n",
    "                                object_type='dark')\n",
    "\n",
    "# post-processing for cleaning to fill in the center of the stomata\n",
    "cross_kernel = pcv.get_kernel(size=(10,10), shape=\"cross\")\n",
    "l_fill_image = pcv.closing(gray_img=l_thresh, kernel = cross_kernel)\n",
    "\n",
    "# look at the cleaned image and see if you have all the stomata, fully filled in.\n",
    "pcv.plot_image(l_fill_image)\n",
    "plt.title('Binary image containing all the stomata')"
   ]
  },
  {
   "attachments": {},
   "cell_type": "markdown",
   "id": "polar-character",
   "metadata": {},
   "source": [
    "## Initialize interactive tool and use pre-detected stoma\n",
    "Click to select only the stomata. You will need to click only once per stomata, and only inside or close to the dark center of the stoma. Your clicking does not have to be perfectly in the center of the stomata. If you click incorrectly, you can click again on the incorrect point to remove it. Adjust figsize for zoom as needed using the interactive figure. "
   ]
  },
  {
   "cell_type": "code",
   "execution_count": null,
   "id": "deadly-fabric",
   "metadata": {
    "scrolled": false
   },
   "outputs": [],
   "source": [
    "#collect points for center of ROIs by clicking on each stomata. You do not need to click perfectly in them, just in or close to the dark center of the stomata\n",
    "marker = pcv.Points(img, figsize=(8,8))"
   ]
  },
  {
   "attachments": {},
   "cell_type": "markdown",
   "id": "94dec1ea",
   "metadata": {},
   "source": [
    "## Look at how many stomata you clicked in your image. You can analyze the number of stomata in your output .csv and do not need to record this unless you want to look at it sooner. "
   ]
  },
  {
   "cell_type": "code",
   "execution_count": null,
   "id": "2cfa675d",
   "metadata": {},
   "outputs": [],
   "source": [
    "# This function measures the length of the list of marker points\n",
    "len(marker.points)"
   ]
  },
  {
   "attachments": {},
   "cell_type": "markdown",
   "id": "corresponding-article",
   "metadata": {},
   "source": [
    "## Create Regions of Interest (ROIs) around each of the markers you clicked, this will select only the stomata to move forward"
   ]
  },
  {
   "cell_type": "code",
   "execution_count": null,
   "id": "based-input",
   "metadata": {},
   "outputs": [],
   "source": [
    "# Create ROI based on the selected points\n",
    "# Your ROI will show up as blue circles here. \n",
    "roi_objects = pcv.roi.multi(img=img, coord=marker.points, radius=5)"
   ]
  },
  {
   "attachments": {},
   "cell_type": "markdown",
   "id": "charitable-liability",
   "metadata": {},
   "source": [
    "## Identify all objects in the image. In the next step, you will only keep the objects in your ROIs. "
   ]
  },
  {
   "cell_type": "code",
   "execution_count": null,
   "id": "solar-boring",
   "metadata": {},
   "outputs": [],
   "source": [
    "# Identify objects\n",
    "# Your objects will show up as pink here. \n",
    "\n",
    "# Inputs: \n",
    "#   img - RGB or grayscale image data for plotting \n",
    "#   mask - Binary mask used for detecting contours \n",
    "id_objects, obj_hierarchy = pcv.find_objects(img=img, mask=l_fill_image)"
   ]
  },
  {
   "attachments": {},
   "cell_type": "markdown",
   "id": "3545fbd0",
   "metadata": {},
   "source": [
    "## Run a loop to measure each stomata individually and save each measurement out in a csv file for every individual stomata. "
   ]
  },
  {
   "cell_type": "code",
   "execution_count": null,
   "id": "73b82439",
   "metadata": {},
   "outputs": [],
   "source": [
    "# Decide which objects to keep\n",
    "\n",
    "# Inputs:\n",
    "#    img            = img to display kept objects\n",
    "#    roi_contour    = contour of roi, output from any ROI function\n",
    "#    roi_hierarchy  = contour of roi, output from any ROI function\n",
    "#    object_contour = contours of objects, output from pcv.find_objects function\n",
    "#    obj_hierarchy  = hierarchy of objects, output from pcv.find_objects function\n",
    "#    roi_type       = 'partial' (default, for partially inside the ROI), 'cutto', or \n",
    "#                     'largest' (keep only largest contour)\n",
    "\n",
    "img_copy = np.copy(img)\n",
    "pcv.params.debug = \"none\"\n",
    "pcv.params.line_thickness = 1\n",
    "i = 0\n",
    "\n",
    "#make a mask to start with that has no stomata\n",
    "mask_all_stomata = np.zeros(l_fill_image.shape, dtype=np.uint8)\n",
    "\n",
    "for roi, hierarchy in roi_objects:\n",
    "    # Find objects in the ROIs\n",
    "    filtered_contours, filtered_hierarchy, filtered_mask, filtered_area = pcv.roi_objects(\n",
    "        img=img, roi_type=\"partial\", roi_contour=roi, roi_hierarchy=hierarchy, object_contour=id_objects, \n",
    "        obj_hierarchy=obj_hierarchy)\n",
    "    \n",
    "    mask_all_stomata = mask_all_stomata + filtered_mask\n",
    "    \n",
    "    # Combine objects together in each plant     \n",
    "    plant_contour, plant_mask = pcv.object_composition(img=img_copy, contours=filtered_contours, hierarchy=filtered_hierarchy)        \n",
    "    \n",
    "    # Analyze the shape of each plant ----- You should change the text label to be specific for your issue, so that when you combine the csv for all images the stoma are labeled by the genotype, replicate, etc.-------------\n",
    "    img_copy = pcv.analyze_object(img=img_copy, obj=plant_contour, mask=plant_mask, label=f\"stoma_number_{i}\")\n",
    "    i = i + 1\n",
    "    \n"
   ]
  },
  {
   "attachments": {},
   "cell_type": "markdown",
   "id": "531df592",
   "metadata": {},
   "source": [
    "## Calibration: Your output csv will be in units of pixels. In order to convert from pixels to other units, measure your scale bar. You should copy these values down to use in your downstream analysis, your results file will still show measurements in pixels. If you want to remain in pixels you can skip this step. "
   ]
  },
  {
   "cell_type": "code",
   "execution_count": null,
   "id": "c980846c",
   "metadata": {},
   "outputs": [],
   "source": [
    "# Collect points using your mouse click for the left and right edges of your scale bar. \n",
    "scale_bar = pcv.Points(img, figsize=(8,8))"
   ]
  },
  {
   "cell_type": "code",
   "execution_count": null,
   "id": "7d4a1cb8",
   "metadata": {},
   "outputs": [],
   "source": [
    "# Use the x coordinate of the two points to get the equivalence between pixels and the image units.\n",
    "# get x coordinates\n",
    "x0 = scale_bar.points[0][0]\n",
    "x1 = scale_bar.points[1][0]\n",
    "print(f\"The x coordinate of the two extremes of the scale bar are {x0} and {x1} respectively\")\n",
    "\n",
    "# calculate pixel equivalence \n",
    "scale = 100 # change this number to equal the micrometers in the image\n",
    "bar_len_pix = x1-x0\n",
    "print(f\"The length in pixels of the scale bar is {bar_len_pix}\")\n",
    "one_pixel_in_units = scale/bar_len_pix\n",
    "print(f\"1 pixel is equivalent to {one_pixel_in_units} units\")\n",
    "print(f\"Your .csv file will have data in pixel units, you can convert using this information when you analyze the numerical data\")"
   ]
  },
  {
   "attachments": {},
   "cell_type": "markdown",
   "id": "a7c31023",
   "metadata": {},
   "source": [
    "## Save the results file and any image files you would like. \"Plot\" shows you the image here, \"Print\" saves the image to your designated folder. If you save out the masks, you can use these later for building deep learning pipelines of annotated images. "
   ]
  },
  {
   "cell_type": "code",
   "execution_count": null,
   "id": "84173279",
   "metadata": {},
   "outputs": [],
   "source": [
    "# Save the outputs as a csv\n",
    "pcv.outputs.save_results(filename=args.result, outformat = \"csv\")\n",
    "\n",
    "#plot the image with the analysis overlay so that you can see what it looks like and make sure the stomata are all included and that the measurement outline is around the stoma\n",
    "pcv.plot_image(img_copy)\n",
    "\n",
    "#save the mask image file if you would like to use it later for building deep learning applications\n",
    "pcv.print_image(mask_all_stomata, filename = os.path.join(args.outdir, filename[:-4] + '_mask.png' ))"
   ]
  },
  {
   "attachments": {},
   "cell_type": "markdown",
   "id": "37091a48",
   "metadata": {},
   "source": [
    "## Clear the outputs before you start on a new image so that each image has its own .csv file! "
   ]
  },
  {
   "cell_type": "code",
   "execution_count": null,
   "id": "542bbc70",
   "metadata": {},
   "outputs": [],
   "source": [
    "#clear outputs\n",
    "pcv.outputs.clear()"
   ]
  },
  {
   "attachments": {},
   "cell_type": "markdown",
   "id": "713e6e89",
   "metadata": {},
   "source": [
    "## After you have done multiple images, combine the .csv files from each image into a single file for analysis"
   ]
  },
  {
   "cell_type": "code",
   "execution_count": null,
   "id": "389d349c",
   "metadata": {},
   "outputs": [],
   "source": [
    "# define the path to the individual result .csv files\n",
    "path = 'args.outdir'\n",
    "os.chdir(path)\n",
    "\n",
    "#select which files should be combined\n",
    "all_filenames = [i for i in glob.glob('*.{}'.format('csv'))]\n",
    "\n",
    "#combine the individual .csv files\n",
    "combined_csv = pd.concat([pd.read_csv(f) for f in all_filenames ])\n",
    "combined_csv.to_csv( \"combined_results.csv\", index=False, encoding='utf-8-sig')"
   ]
  }
 ],
 "metadata": {
  "kernelspec": {
   "display_name": "base",
   "language": "python",
   "name": "python3"
  },
  "language_info": {
   "codemirror_mode": {
    "name": "ipython",
    "version": 3
   },
   "file_extension": ".py",
   "mimetype": "text/x-python",
   "name": "python",
   "nbconvert_exporter": "python",
   "pygments_lexer": "ipython3",
   "version": "3.10.9"
  },
  "vscode": {
   "interpreter": {
    "hash": "3a796a6dcb323b1cf74e94724007f919262604a4518da017ccdb24d2f7645ede"
   }
  }
 },
 "nbformat": 4,
 "nbformat_minor": 5
}
